{
  "nbformat": 4,
  "nbformat_minor": 0,
  "metadata": {
    "colab": {
      "name": "MyProject.ipynb",
      "version": "0.3.2",
      "provenance": [],
      "private_outputs": true,
      "toc_visible": true,
      "include_colab_link": true
    },
    "kernelspec": {
      "name": "python2",
      "display_name": "Python 2"
    },
    "accelerator": "GPU"
  },
  "cells": [
    {
      "cell_type": "markdown",
      "metadata": {
        "id": "view-in-github",
        "colab_type": "text"
      },
      "source": [
        "[View in Colaboratory](https://colab.research.google.com/github/NazariAmin/AppleCourseApp/blob/master/MyProject.ipynb)"
      ]
    },
    {
      "metadata": {
        "id": "fX96RnU09zxP",
        "colab_type": "code",
        "colab": {}
      },
      "cell_type": "code",
      "source": [
        "cd"
      ],
      "execution_count": 0,
      "outputs": []
    },
    {
      "metadata": {
        "id": "ZghESj6CIGEe",
        "colab_type": "code",
        "colab": {}
      },
      "cell_type": "code",
      "source": [
        "%cd\n",
        "!git clone https://github.com/tensorflow/models.git"
      ],
      "execution_count": 0,
      "outputs": []
    },
    {
      "metadata": {
        "id": "bZ3fzpG0IYde",
        "colab_type": "code",
        "colab": {}
      },
      "cell_type": "code",
      "source": [
        "%cd ~/models/research/deeplab/datasets\n",
        "!sh ./download_and_convert_ade20k.sh"
      ],
      "execution_count": 0,
      "outputs": []
    },
    {
      "metadata": {
        "id": "6HjGOLlZP-2V",
        "colab_type": "code",
        "colab": {}
      },
      "cell_type": "code",
      "source": [
        "%cd ~/models/research/deeplab\n",
        "%env PYTHONPATH=/env/python/:/content/models/research/:/content/models/research/slim\n",
        "%env ADE20K_DATASET=/content/models/research/deeplab/datasets/ADE20K/tfrecord\n",
        "\n",
        "# Export the trained checkpoint.\n",
        "%env CKPT_PATH=/content/models/research/deeplab/datasets/ADE20K/exp/train_on_trainval_set/train/model.ckpt-500\n",
        "%env EXPORT_PATH=/content/models/research/deeplab/datasets/ADE20K/exp/train_on_trainval_set/export/frozen_inference_graph.pb\n",
        "\n",
        "# Set up the working directories.\n",
        "%env INIT_FOLDER=/content/models/research/deeplab/datasets/ADE20K/init_models\n",
        "%env TRAIN_LOGDIR=/content/models/research/deeplab/datasets/ADE20K/exp/train_on_trainval_set/train\n",
        "%env EVAL_LOGDIR=/content/models/research/deeplab/datasets/ADE20K/exp/train_on_trainval_set/eval\n",
        "%env EXPORT_DIR=/content/models/research/deeplab/datasets/ADE20K/exp/train_on_trainval_set/export\n",
        "!mkdir -p ${INIT_FOLDER}\n",
        "!mkdir -p ${TRAIN_LOGDIR}\n",
        "!mkdir -p ${EVAL_LOGDIR}\n",
        "!mkdir -p ${EXPORT_DIR}\n",
        "\n",
        "%env TF_INIT_ROOT=http://download.tensorflow.org/models"
      ],
      "execution_count": 0,
      "outputs": []
    },
    {
      "metadata": {
        "id": "ldSUVrGuQTIw",
        "colab_type": "code",
        "colab": {}
      },
      "cell_type": "code",
      "source": [
        "%cd ~/models/research/deeplab/datasets/ADE20K/init_models\n",
        "%env TF_INIT_CKPT=deeplabv3_xception_ade20k_train_2018_05_14.tar.gz\n",
        "!wget -nd -c \"${TF_INIT_ROOT}/${TF_INIT_CKPT}\"\n",
        "!tar -xf \"${TF_INIT_CKPT}\"\n",
        "%cd ~/models/research/deeplab\n",
        "\n"
      ],
      "execution_count": 0,
      "outputs": []
    },
    {
      "metadata": {
        "id": "KDqZ2R2sRUXm",
        "colab_type": "code",
        "colab": {}
      },
      "cell_type": "code",
      "source": [
        "!python train.py \\\n",
        "  --logtostderr \\\n",
        "  --training_number_of_steps=2000 \\\n",
        "  --train_split=\"train\" \\\n",
        "  --model_variant=\"mobilenet_v2\" \\\n",
        "  --train_crop_size=513 \\\n",
        "  --train_crop_size=513 \\\n",
        "  --train_batch_size=2 \\\n",
        "  --min_resize_value=350 \\\n",
        "  --max_resize_value=500 \\\n",
        "  --resize_factor=16 \\\n",
        "  --fine_tune_batch_norm=False \\\n",
        "  --dataset=\"ade20k\" \\\n",
        "  --initialize_last_layer=False \\\n",
        "  --last_layers_contain_logits_only=True \\\n",
        "  --tf_initial_checkpoint=\"${INIT_FOLDER}/deeplabv3_mnv2_pascal_train_aug/model.ckpt-30000\" \\\n",
        "  --train_logdir=\"${TRAIN_LOGDIR}\" \\\n",
        "  --dataset_dir=\"${ADE20K_DATASET}\""
      ],
      "execution_count": 0,
      "outputs": []
    },
    {
      "metadata": {
        "id": "NLZkTcnVR65s",
        "colab_type": "code",
        "colab": {}
      },
      "cell_type": "code",
      "source": [
        "!sh ./local_test.sh\n"
      ],
      "execution_count": 0,
      "outputs": []
    }
  ]
}